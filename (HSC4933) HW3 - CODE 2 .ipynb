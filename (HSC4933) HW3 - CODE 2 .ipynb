{
 "cells": [
  {
   "cell_type": "code",
   "execution_count": 2,
   "id": "e0949067",
   "metadata": {},
   "outputs": [
    {
     "name": "stdout",
     "output_type": "stream",
     "text": [
      "Enter the patient's temperature below in degrees fahrenheit\n"
     ]
    }
   ],
   "source": [
    "print(\"Enter the patient's temperature below in degrees fahrenheit\")"
   ]
  },
  {
   "cell_type": "code",
   "execution_count": 3,
   "id": "0ad39af9",
   "metadata": {},
   "outputs": [
    {
     "name": "stdout",
     "output_type": "stream",
     "text": [
      "patient temperature:100.3\n",
      "You have a high temperature\n"
     ]
    }
   ],
   "source": [
    "patienttemperature = float(input(\"patient temperature:\"))\n",
    "if patienttemperature >= 99.5:\n",
    "    print(\"You have a high temperature\")"
   ]
  },
  {
   "cell_type": "code",
   "execution_count": 22,
   "id": "20f3ce98",
   "metadata": {},
   "outputs": [
    {
     "name": "stdout",
     "output_type": "stream",
     "text": [
      "patient temperature:97\n",
      "You have a normal temperature\n"
     ]
    }
   ],
   "source": [
    "patienttemperature = float(input(\"patient temperature:\"))\n",
    "if patienttemperature < 99.5:\n",
    "    print(\"You have a normal temperature\")"
   ]
  }
 ],
 "metadata": {
  "kernelspec": {
   "display_name": "Python 3 (ipykernel)",
   "language": "python",
   "name": "python3"
  },
  "language_info": {
   "codemirror_mode": {
    "name": "ipython",
    "version": 3
   },
   "file_extension": ".py",
   "mimetype": "text/x-python",
   "name": "python",
   "nbconvert_exporter": "python",
   "pygments_lexer": "ipython3",
   "version": "3.11.4"
  }
 },
 "nbformat": 4,
 "nbformat_minor": 5
}
